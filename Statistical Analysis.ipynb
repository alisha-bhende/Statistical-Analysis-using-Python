{
 "cells": [
  {
   "cell_type": "markdown",
   "id": "75699bbd-08e2-41b4-a95d-229ac2f4af44",
   "metadata": {},
   "source": [
    "#### Importing necessary libraries "
   ]
  },
  {
   "cell_type": "code",
   "execution_count": 16,
   "id": "75677898-4961-4111-9bdd-0710664a8da4",
   "metadata": {},
   "outputs": [],
   "source": [
    "import numpy as np\n",
    "import pandas as pd\n",
    "import matplotlib.pyplot as plt\n",
    "import seaborn as sns\n",
    "import warnings"
   ]
  },
  {
   "cell_type": "markdown",
   "id": "70641d72-0f1f-4ef7-bef7-23439b74bbb6",
   "metadata": {},
   "source": [
    "#### Reading data file"
   ]
  },
  {
   "cell_type": "code",
   "execution_count": 18,
   "id": "89e9408e-e017-45cb-88ba-5aac7cf51818",
   "metadata": {},
   "outputs": [],
   "source": [
    "df1 = pd.read_excel(r\"/Users/alishabhende/Documents/Stats Individual Assignment/survey.csv.xlsx\")"
   ]
  },
  {
   "cell_type": "code",
   "execution_count": 20,
   "id": "316db075-a258-43ea-81b1-6daba9c0592c",
   "metadata": {},
   "outputs": [
    {
     "data": {
      "text/html": [
       "<div>\n",
       "<style scoped>\n",
       "    .dataframe tbody tr th:only-of-type {\n",
       "        vertical-align: middle;\n",
       "    }\n",
       "\n",
       "    .dataframe tbody tr th {\n",
       "        vertical-align: top;\n",
       "    }\n",
       "\n",
       "    .dataframe thead th {\n",
       "        text-align: right;\n",
       "    }\n",
       "</style>\n",
       "<table border=\"1\" class=\"dataframe\">\n",
       "  <thead>\n",
       "    <tr style=\"text-align: right;\">\n",
       "      <th></th>\n",
       "      <th>id</th>\n",
       "      <th>sex</th>\n",
       "      <th>age</th>\n",
       "      <th>marital</th>\n",
       "      <th>child</th>\n",
       "      <th>educ</th>\n",
       "      <th>source</th>\n",
       "      <th>smoke</th>\n",
       "      <th>smokenum</th>\n",
       "      <th>op1</th>\n",
       "      <th>...</th>\n",
       "      <th>tslfest</th>\n",
       "      <th>tmarlow</th>\n",
       "      <th>tpcoiss</th>\n",
       "      <th>agegp3</th>\n",
       "      <th>agegp5</th>\n",
       "      <th>educrec</th>\n",
       "      <th>LG10negaff</th>\n",
       "      <th>MAH_1</th>\n",
       "      <th>COO_1</th>\n",
       "      <th>MAH_2</th>\n",
       "    </tr>\n",
       "  </thead>\n",
       "  <tbody>\n",
       "    <tr>\n",
       "      <th>0</th>\n",
       "      <td>415</td>\n",
       "      <td>2</td>\n",
       "      <td>24</td>\n",
       "      <td>4</td>\n",
       "      <td>1.0</td>\n",
       "      <td>5</td>\n",
       "      <td>7.0</td>\n",
       "      <td>2.0</td>\n",
       "      <td>NaN</td>\n",
       "      <td>3.0</td>\n",
       "      <td>...</td>\n",
       "      <td>35.0</td>\n",
       "      <td>4.0</td>\n",
       "      <td>51.0</td>\n",
       "      <td>1</td>\n",
       "      <td>1</td>\n",
       "      <td>4</td>\n",
       "      <td>1.623249</td>\n",
       "      <td>0.958016</td>\n",
       "      <td>0.000045</td>\n",
       "      <td>18.100643</td>\n",
       "    </tr>\n",
       "    <tr>\n",
       "      <th>1</th>\n",
       "      <td>9</td>\n",
       "      <td>1</td>\n",
       "      <td>39</td>\n",
       "      <td>3</td>\n",
       "      <td>1.0</td>\n",
       "      <td>5</td>\n",
       "      <td>1.0</td>\n",
       "      <td>1.0</td>\n",
       "      <td>2.0</td>\n",
       "      <td>2.0</td>\n",
       "      <td>...</td>\n",
       "      <td>34.0</td>\n",
       "      <td>5.0</td>\n",
       "      <td>40.0</td>\n",
       "      <td>2</td>\n",
       "      <td>3</td>\n",
       "      <td>4</td>\n",
       "      <td>1.544068</td>\n",
       "      <td>3.640753</td>\n",
       "      <td>0.015852</td>\n",
       "      <td>14.482011</td>\n",
       "    </tr>\n",
       "    <tr>\n",
       "      <th>2</th>\n",
       "      <td>425</td>\n",
       "      <td>2</td>\n",
       "      <td>48</td>\n",
       "      <td>4</td>\n",
       "      <td>1.0</td>\n",
       "      <td>2</td>\n",
       "      <td>4.0</td>\n",
       "      <td>2.0</td>\n",
       "      <td>NaN</td>\n",
       "      <td>3.0</td>\n",
       "      <td>...</td>\n",
       "      <td>31.0</td>\n",
       "      <td>8.0</td>\n",
       "      <td>47.0</td>\n",
       "      <td>3</td>\n",
       "      <td>4</td>\n",
       "      <td>1</td>\n",
       "      <td>1.146128</td>\n",
       "      <td>1.307418</td>\n",
       "      <td>0.014042</td>\n",
       "      <td>14.214291</td>\n",
       "    </tr>\n",
       "    <tr>\n",
       "      <th>3</th>\n",
       "      <td>307</td>\n",
       "      <td>1</td>\n",
       "      <td>41</td>\n",
       "      <td>5</td>\n",
       "      <td>1.0</td>\n",
       "      <td>2</td>\n",
       "      <td>1.0</td>\n",
       "      <td>2.0</td>\n",
       "      <td>0.0</td>\n",
       "      <td>3.0</td>\n",
       "      <td>...</td>\n",
       "      <td>40.0</td>\n",
       "      <td>3.0</td>\n",
       "      <td>63.0</td>\n",
       "      <td>2</td>\n",
       "      <td>4</td>\n",
       "      <td>1</td>\n",
       "      <td>1.556303</td>\n",
       "      <td>1.314176</td>\n",
       "      <td>0.005404</td>\n",
       "      <td>14.169411</td>\n",
       "    </tr>\n",
       "    <tr>\n",
       "      <th>4</th>\n",
       "      <td>440</td>\n",
       "      <td>1</td>\n",
       "      <td>23</td>\n",
       "      <td>1</td>\n",
       "      <td>2.0</td>\n",
       "      <td>5</td>\n",
       "      <td>1.0</td>\n",
       "      <td>2.0</td>\n",
       "      <td>0.0</td>\n",
       "      <td>3.0</td>\n",
       "      <td>...</td>\n",
       "      <td>21.0</td>\n",
       "      <td>4.0</td>\n",
       "      <td>46.0</td>\n",
       "      <td>1</td>\n",
       "      <td>1</td>\n",
       "      <td>4</td>\n",
       "      <td>1.041393</td>\n",
       "      <td>2.718887</td>\n",
       "      <td>0.000376</td>\n",
       "      <td>13.702974</td>\n",
       "    </tr>\n",
       "  </tbody>\n",
       "</table>\n",
       "<p>5 rows × 134 columns</p>\n",
       "</div>"
      ],
      "text/plain": [
       "    id  sex  age  marital  child  educ  source  smoke  smokenum  op1  ...  \\\n",
       "0  415    2   24        4    1.0     5     7.0    2.0       NaN  3.0  ...   \n",
       "1    9    1   39        3    1.0     5     1.0    1.0       2.0  2.0  ...   \n",
       "2  425    2   48        4    1.0     2     4.0    2.0       NaN  3.0  ...   \n",
       "3  307    1   41        5    1.0     2     1.0    2.0       0.0  3.0  ...   \n",
       "4  440    1   23        1    2.0     5     1.0    2.0       0.0  3.0  ...   \n",
       "\n",
       "   tslfest  tmarlow  tpcoiss  agegp3  agegp5  educrec  LG10negaff     MAH_1  \\\n",
       "0     35.0      4.0     51.0       1       1        4    1.623249  0.958016   \n",
       "1     34.0      5.0     40.0       2       3        4    1.544068  3.640753   \n",
       "2     31.0      8.0     47.0       3       4        1    1.146128  1.307418   \n",
       "3     40.0      3.0     63.0       2       4        1    1.556303  1.314176   \n",
       "4     21.0      4.0     46.0       1       1        4    1.041393  2.718887   \n",
       "\n",
       "      COO_1      MAH_2  \n",
       "0  0.000045  18.100643  \n",
       "1  0.015852  14.482011  \n",
       "2  0.014042  14.214291  \n",
       "3  0.005404  14.169411  \n",
       "4  0.000376  13.702974  \n",
       "\n",
       "[5 rows x 134 columns]"
      ]
     },
     "execution_count": 20,
     "metadata": {},
     "output_type": "execute_result"
    }
   ],
   "source": [
    "df1.head()"
   ]
  },
  {
   "cell_type": "code",
   "execution_count": 22,
   "id": "a68c78ab-c6cd-4398-b73d-e3f52fa1666b",
   "metadata": {},
   "outputs": [
    {
     "data": {
      "text/plain": [
       "(439, 134)"
      ]
     },
     "execution_count": 22,
     "metadata": {},
     "output_type": "execute_result"
    }
   ],
   "source": [
    "df1.shape"
   ]
  },
  {
   "cell_type": "code",
   "execution_count": 24,
   "id": "88adae51-12ae-47b3-942e-89f1cf508753",
   "metadata": {},
   "outputs": [
    {
     "name": "stdout",
     "output_type": "stream",
     "text": [
      "<class 'pandas.core.frame.DataFrame'>\n",
      "RangeIndex: 439 entries, 0 to 438\n",
      "Columns: 134 entries, id to MAH_2\n",
      "dtypes: float64(126), int64(8)\n",
      "memory usage: 459.7 KB\n"
     ]
    }
   ],
   "source": [
    "df1.info()"
   ]
  },
  {
   "cell_type": "markdown",
   "id": "6a1d0a91-fd75-48d8-858f-a20dfcb65be2",
   "metadata": {},
   "source": [
    "#### Data Cleaning and Preparation"
   ]
  },
  {
   "cell_type": "code",
   "execution_count": null,
   "id": "f1680b7f-690e-4034-90a8-6ecffec09324",
   "metadata": {},
   "outputs": [],
   "source": [
    "#objective is to clean the data by handling missing values to ensure data consistency"
   ]
  },
  {
   "cell_type": "code",
   "execution_count": 26,
   "id": "a53ab315-3c25-4b62-9cce-5e1e935101e0",
   "metadata": {},
   "outputs": [],
   "source": [
    "Total_nulls = pd.Series(df1.isnull().sum() [df1.isnull().sum()>0])"
   ]
  },
  {
   "cell_type": "code",
   "execution_count": 28,
   "id": "ab07ade9-791e-47f8-8266-69dce2af241d",
   "metadata": {},
   "outputs": [],
   "source": [
    "pd.set_option('display.max_rows', None)"
   ]
  },
  {
   "cell_type": "code",
   "execution_count": 30,
   "id": "66855e33-1f37-41c9-9123-6a6417e9b8d1",
   "metadata": {},
   "outputs": [
    {
     "data": {
      "text/plain": [
       "child          1\n",
       "source        17\n",
       "smoke          3\n",
       "smokenum      79\n",
       "op1            4\n",
       "op2            3\n",
       "op3            3\n",
       "op4            3\n",
       "op5            3\n",
       "op6            3\n",
       "mast1          3\n",
       "mast2          3\n",
       "mast3          3\n",
       "mast4          3\n",
       "mast5          3\n",
       "mast6          3\n",
       "mast7          3\n",
       "pn1            3\n",
       "pn2            3\n",
       "pn3            3\n",
       "pn4            3\n",
       "pn5            3\n",
       "pn6            3\n",
       "pn7            3\n",
       "pn8            4\n",
       "pn9            3\n",
       "pn10           3\n",
       "pn11           3\n",
       "pn12           3\n",
       "pn13           3\n",
       "pn14           3\n",
       "pn15           3\n",
       "pn16           3\n",
       "pn17           3\n",
       "pn18           3\n",
       "pn19           3\n",
       "pn20           3\n",
       "lifsat1        3\n",
       "lifsat2        3\n",
       "lifsat3        3\n",
       "lifsat4        3\n",
       "lifsat5        3\n",
       "pss1           6\n",
       "pss2           6\n",
       "pss3           6\n",
       "pss4           6\n",
       "pss5           6\n",
       "pss6           6\n",
       "pss7           6\n",
       "pss8           6\n",
       "pss9           6\n",
       "pss10          6\n",
       "sest1          3\n",
       "sest2          3\n",
       "sest3          3\n",
       "sest4          3\n",
       "sest5          3\n",
       "sest6          3\n",
       "sest7          3\n",
       "sest8          3\n",
       "sest9          3\n",
       "sest10         3\n",
       "m1             3\n",
       "m2             3\n",
       "m3             3\n",
       "m4             4\n",
       "m5             3\n",
       "m6             3\n",
       "m7             3\n",
       "m8             4\n",
       "m9             3\n",
       "m10            4\n",
       "pc1            6\n",
       "pc2            6\n",
       "pc3            6\n",
       "pc4            6\n",
       "pc5            6\n",
       "pc6            7\n",
       "pc7            6\n",
       "pc8            6\n",
       "pc9            6\n",
       "pc10           6\n",
       "pc11           6\n",
       "pc12           6\n",
       "pc13           6\n",
       "pc14           6\n",
       "pc15           6\n",
       "pc16           6\n",
       "pc17           6\n",
       "pc18           6\n",
       "Rop2           3\n",
       "Rop4           3\n",
       "Rop6           3\n",
       "Rmast1         3\n",
       "Rmast3         3\n",
       "Rmast4         3\n",
       "Rmast6         3\n",
       "Rmast7         3\n",
       "Rpss4          6\n",
       "Rpss5          6\n",
       "Rpss7          6\n",
       "Rpss8          6\n",
       "Rsest3         3\n",
       "Rsest5         3\n",
       "Rsest7         3\n",
       "Rsest9         3\n",
       "Rsest10        3\n",
       "Rpc1           6\n",
       "Rpc2           6\n",
       "Rpc7           6\n",
       "Rpc11          6\n",
       "Rpc15          6\n",
       "Rpc16          6\n",
       "toptim         4\n",
       "tmast          3\n",
       "tposaff        3\n",
       "tnegaff        4\n",
       "tlifesat       3\n",
       "tpstress       6\n",
       "tslfest        3\n",
       "tmarlow        6\n",
       "tpcoiss        9\n",
       "LG10negaff     4\n",
       "MAH_1         10\n",
       "COO_1         13\n",
       "MAH_2          7\n",
       "dtype: int64"
      ]
     },
     "execution_count": 30,
     "metadata": {},
     "output_type": "execute_result"
    }
   ],
   "source": [
    "Total_nulls"
   ]
  },
  {
   "cell_type": "code",
   "execution_count": null,
   "id": "cee3d39c-256b-4459-b0bd-a0c1d70992ed",
   "metadata": {},
   "outputs": [],
   "source": [
    "#percentage of nulls in each column"
   ]
  },
  {
   "cell_type": "code",
   "execution_count": 32,
   "id": "3b26b6c9-4ea9-40a3-b127-777dadd0067b",
   "metadata": {},
   "outputs": [
    {
     "data": {
      "text/plain": [
       "id             0.000000\n",
       "sex            0.000000\n",
       "age            0.000000\n",
       "marital        0.000000\n",
       "child          0.227790\n",
       "educ           0.000000\n",
       "source         3.872437\n",
       "smoke          0.683371\n",
       "smokenum      17.995444\n",
       "op1            0.911162\n",
       "op2            0.683371\n",
       "op3            0.683371\n",
       "op4            0.683371\n",
       "op5            0.683371\n",
       "op6            0.683371\n",
       "mast1          0.683371\n",
       "mast2          0.683371\n",
       "mast3          0.683371\n",
       "mast4          0.683371\n",
       "mast5          0.683371\n",
       "mast6          0.683371\n",
       "mast7          0.683371\n",
       "pn1            0.683371\n",
       "pn2            0.683371\n",
       "pn3            0.683371\n",
       "pn4            0.683371\n",
       "pn5            0.683371\n",
       "pn6            0.683371\n",
       "pn7            0.683371\n",
       "pn8            0.911162\n",
       "pn9            0.683371\n",
       "pn10           0.683371\n",
       "pn11           0.683371\n",
       "pn12           0.683371\n",
       "pn13           0.683371\n",
       "pn14           0.683371\n",
       "pn15           0.683371\n",
       "pn16           0.683371\n",
       "pn17           0.683371\n",
       "pn18           0.683371\n",
       "pn19           0.683371\n",
       "pn20           0.683371\n",
       "lifsat1        0.683371\n",
       "lifsat2        0.683371\n",
       "lifsat3        0.683371\n",
       "lifsat4        0.683371\n",
       "lifsat5        0.683371\n",
       "pss1           1.366743\n",
       "pss2           1.366743\n",
       "pss3           1.366743\n",
       "pss4           1.366743\n",
       "pss5           1.366743\n",
       "pss6           1.366743\n",
       "pss7           1.366743\n",
       "pss8           1.366743\n",
       "pss9           1.366743\n",
       "pss10          1.366743\n",
       "sest1          0.683371\n",
       "sest2          0.683371\n",
       "sest3          0.683371\n",
       "sest4          0.683371\n",
       "sest5          0.683371\n",
       "sest6          0.683371\n",
       "sest7          0.683371\n",
       "sest8          0.683371\n",
       "sest9          0.683371\n",
       "sest10         0.683371\n",
       "m1             0.683371\n",
       "m2             0.683371\n",
       "m3             0.683371\n",
       "m4             0.911162\n",
       "m5             0.683371\n",
       "m6             0.683371\n",
       "m7             0.683371\n",
       "m8             0.911162\n",
       "m9             0.683371\n",
       "m10            0.911162\n",
       "pc1            1.366743\n",
       "pc2            1.366743\n",
       "pc3            1.366743\n",
       "pc4            1.366743\n",
       "pc5            1.366743\n",
       "pc6            1.594533\n",
       "pc7            1.366743\n",
       "pc8            1.366743\n",
       "pc9            1.366743\n",
       "pc10           1.366743\n",
       "pc11           1.366743\n",
       "pc12           1.366743\n",
       "pc13           1.366743\n",
       "pc14           1.366743\n",
       "pc15           1.366743\n",
       "pc16           1.366743\n",
       "pc17           1.366743\n",
       "pc18           1.366743\n",
       "Rop2           0.683371\n",
       "Rop4           0.683371\n",
       "Rop6           0.683371\n",
       "Rmast1         0.683371\n",
       "Rmast3         0.683371\n",
       "Rmast4         0.683371\n",
       "Rmast6         0.683371\n",
       "Rmast7         0.683371\n",
       "Rpss4          1.366743\n",
       "Rpss5          1.366743\n",
       "Rpss7          1.366743\n",
       "Rpss8          1.366743\n",
       "Rsest3         0.683371\n",
       "Rsest5         0.683371\n",
       "Rsest7         0.683371\n",
       "Rsest9         0.683371\n",
       "Rsest10        0.683371\n",
       "Rpc1           1.366743\n",
       "Rpc2           1.366743\n",
       "Rpc7           1.366743\n",
       "Rpc11          1.366743\n",
       "Rpc15          1.366743\n",
       "Rpc16          1.366743\n",
       "toptim         0.911162\n",
       "tmast          0.683371\n",
       "tposaff        0.683371\n",
       "tnegaff        0.911162\n",
       "tlifesat       0.683371\n",
       "tpstress       1.366743\n",
       "tslfest        0.683371\n",
       "tmarlow        1.366743\n",
       "tpcoiss        2.050114\n",
       "agegp3         0.000000\n",
       "agegp5         0.000000\n",
       "educrec        0.000000\n",
       "LG10negaff     0.911162\n",
       "MAH_1          2.277904\n",
       "COO_1          2.961276\n",
       "MAH_2          1.594533\n",
       "dtype: float64"
      ]
     },
     "execution_count": 32,
     "metadata": {},
     "output_type": "execute_result"
    }
   ],
   "source": [
    "df1.isnull().sum()/df1.shape[0]*100"
   ]
  },
  {
   "cell_type": "code",
   "execution_count": null,
   "id": "f103cb09-ff4d-4420-91c3-b6f3e414ef22",
   "metadata": {},
   "outputs": [],
   "source": [
    "#since the percentage of nulls in all columns is very less, we can drop all the nulls from the dataset"
   ]
  },
  {
   "cell_type": "code",
   "execution_count": 34,
   "id": "e8deb36e-5de2-43d9-9d83-6d2adceca825",
   "metadata": {},
   "outputs": [],
   "source": [
    "df1.dropna(inplace=True)"
   ]
  },
  {
   "cell_type": "code",
   "execution_count": null,
   "id": "9810837f-9024-4482-a8ec-fc56861f5eda",
   "metadata": {},
   "outputs": [],
   "source": [
    "#checking to see if all nulls were dropped"
   ]
  },
  {
   "cell_type": "code",
   "execution_count": 36,
   "id": "ebab1c35-e7ce-492c-b7a6-5a15432ca42f",
   "metadata": {},
   "outputs": [
    {
     "data": {
      "text/plain": [
       "Series([], dtype: int64)"
      ]
     },
     "execution_count": 36,
     "metadata": {},
     "output_type": "execute_result"
    }
   ],
   "source": [
    "df1.isnull().sum() [df1.isnull().sum()>0]"
   ]
  },
  {
   "cell_type": "code",
   "execution_count": null,
   "id": "36f96ea4-0d6a-4750-ac2d-92015eb03a9a",
   "metadata": {},
   "outputs": [],
   "source": [
    "#dropping the id column"
   ]
  },
  {
   "cell_type": "code",
   "execution_count": 38,
   "id": "bba20fe1-6976-4c49-a6dc-0148cfc55de8",
   "metadata": {},
   "outputs": [],
   "source": [
    "df1 = df1.drop(['id'],axis=1)"
   ]
  },
  {
   "cell_type": "code",
   "execution_count": 40,
   "id": "a05a0e2f-249c-4f85-8565-42e292f67e0b",
   "metadata": {},
   "outputs": [
    {
     "data": {
      "text/html": [
       "<div>\n",
       "<style scoped>\n",
       "    .dataframe tbody tr th:only-of-type {\n",
       "        vertical-align: middle;\n",
       "    }\n",
       "\n",
       "    .dataframe tbody tr th {\n",
       "        vertical-align: top;\n",
       "    }\n",
       "\n",
       "    .dataframe thead th {\n",
       "        text-align: right;\n",
       "    }\n",
       "</style>\n",
       "<table border=\"1\" class=\"dataframe\">\n",
       "  <thead>\n",
       "    <tr style=\"text-align: right;\">\n",
       "      <th></th>\n",
       "      <th>sex</th>\n",
       "      <th>age</th>\n",
       "      <th>marital</th>\n",
       "      <th>child</th>\n",
       "      <th>educ</th>\n",
       "      <th>source</th>\n",
       "      <th>smoke</th>\n",
       "      <th>smokenum</th>\n",
       "      <th>op1</th>\n",
       "      <th>op2</th>\n",
       "      <th>...</th>\n",
       "      <th>tslfest</th>\n",
       "      <th>tmarlow</th>\n",
       "      <th>tpcoiss</th>\n",
       "      <th>agegp3</th>\n",
       "      <th>agegp5</th>\n",
       "      <th>educrec</th>\n",
       "      <th>LG10negaff</th>\n",
       "      <th>MAH_1</th>\n",
       "      <th>COO_1</th>\n",
       "      <th>MAH_2</th>\n",
       "    </tr>\n",
       "  </thead>\n",
       "  <tbody>\n",
       "    <tr>\n",
       "      <th>1</th>\n",
       "      <td>1</td>\n",
       "      <td>39</td>\n",
       "      <td>3</td>\n",
       "      <td>1.0</td>\n",
       "      <td>5</td>\n",
       "      <td>1.0</td>\n",
       "      <td>1.0</td>\n",
       "      <td>2.0</td>\n",
       "      <td>2.0</td>\n",
       "      <td>3.0</td>\n",
       "      <td>...</td>\n",
       "      <td>34.0</td>\n",
       "      <td>5.0</td>\n",
       "      <td>40.0</td>\n",
       "      <td>2</td>\n",
       "      <td>3</td>\n",
       "      <td>4</td>\n",
       "      <td>1.544068</td>\n",
       "      <td>3.640753</td>\n",
       "      <td>0.015852</td>\n",
       "      <td>14.482011</td>\n",
       "    </tr>\n",
       "    <tr>\n",
       "      <th>3</th>\n",
       "      <td>1</td>\n",
       "      <td>41</td>\n",
       "      <td>5</td>\n",
       "      <td>1.0</td>\n",
       "      <td>2</td>\n",
       "      <td>1.0</td>\n",
       "      <td>2.0</td>\n",
       "      <td>0.0</td>\n",
       "      <td>3.0</td>\n",
       "      <td>1.0</td>\n",
       "      <td>...</td>\n",
       "      <td>40.0</td>\n",
       "      <td>3.0</td>\n",
       "      <td>63.0</td>\n",
       "      <td>2</td>\n",
       "      <td>4</td>\n",
       "      <td>1</td>\n",
       "      <td>1.556303</td>\n",
       "      <td>1.314176</td>\n",
       "      <td>0.005404</td>\n",
       "      <td>14.169411</td>\n",
       "    </tr>\n",
       "    <tr>\n",
       "      <th>4</th>\n",
       "      <td>1</td>\n",
       "      <td>23</td>\n",
       "      <td>1</td>\n",
       "      <td>2.0</td>\n",
       "      <td>5</td>\n",
       "      <td>1.0</td>\n",
       "      <td>2.0</td>\n",
       "      <td>0.0</td>\n",
       "      <td>3.0</td>\n",
       "      <td>2.0</td>\n",
       "      <td>...</td>\n",
       "      <td>21.0</td>\n",
       "      <td>4.0</td>\n",
       "      <td>46.0</td>\n",
       "      <td>1</td>\n",
       "      <td>1</td>\n",
       "      <td>4</td>\n",
       "      <td>1.041393</td>\n",
       "      <td>2.718887</td>\n",
       "      <td>0.000376</td>\n",
       "      <td>13.702974</td>\n",
       "    </tr>\n",
       "    <tr>\n",
       "      <th>6</th>\n",
       "      <td>2</td>\n",
       "      <td>30</td>\n",
       "      <td>6</td>\n",
       "      <td>2.0</td>\n",
       "      <td>4</td>\n",
       "      <td>8.0</td>\n",
       "      <td>2.0</td>\n",
       "      <td>0.0</td>\n",
       "      <td>3.0</td>\n",
       "      <td>5.0</td>\n",
       "      <td>...</td>\n",
       "      <td>18.0</td>\n",
       "      <td>3.0</td>\n",
       "      <td>25.0</td>\n",
       "      <td>2</td>\n",
       "      <td>2</td>\n",
       "      <td>3</td>\n",
       "      <td>1.568202</td>\n",
       "      <td>12.651429</td>\n",
       "      <td>0.002399</td>\n",
       "      <td>12.523442</td>\n",
       "    </tr>\n",
       "    <tr>\n",
       "      <th>7</th>\n",
       "      <td>1</td>\n",
       "      <td>23</td>\n",
       "      <td>2</td>\n",
       "      <td>2.0</td>\n",
       "      <td>5</td>\n",
       "      <td>1.0</td>\n",
       "      <td>1.0</td>\n",
       "      <td>100.0</td>\n",
       "      <td>4.0</td>\n",
       "      <td>1.0</td>\n",
       "      <td>...</td>\n",
       "      <td>34.0</td>\n",
       "      <td>4.0</td>\n",
       "      <td>35.0</td>\n",
       "      <td>1</td>\n",
       "      <td>1</td>\n",
       "      <td>4</td>\n",
       "      <td>1.579784</td>\n",
       "      <td>5.734723</td>\n",
       "      <td>0.015902</td>\n",
       "      <td>12.380524</td>\n",
       "    </tr>\n",
       "  </tbody>\n",
       "</table>\n",
       "<p>5 rows × 133 columns</p>\n",
       "</div>"
      ],
      "text/plain": [
       "   sex  age  marital  child  educ  source  smoke  smokenum  op1  op2  ...  \\\n",
       "1    1   39        3    1.0     5     1.0    1.0       2.0  2.0  3.0  ...   \n",
       "3    1   41        5    1.0     2     1.0    2.0       0.0  3.0  1.0  ...   \n",
       "4    1   23        1    2.0     5     1.0    2.0       0.0  3.0  2.0  ...   \n",
       "6    2   30        6    2.0     4     8.0    2.0       0.0  3.0  5.0  ...   \n",
       "7    1   23        2    2.0     5     1.0    1.0     100.0  4.0  1.0  ...   \n",
       "\n",
       "   tslfest  tmarlow  tpcoiss  agegp3  agegp5  educrec  LG10negaff      MAH_1  \\\n",
       "1     34.0      5.0     40.0       2       3        4    1.544068   3.640753   \n",
       "3     40.0      3.0     63.0       2       4        1    1.556303   1.314176   \n",
       "4     21.0      4.0     46.0       1       1        4    1.041393   2.718887   \n",
       "6     18.0      3.0     25.0       2       2        3    1.568202  12.651429   \n",
       "7     34.0      4.0     35.0       1       1        4    1.579784   5.734723   \n",
       "\n",
       "      COO_1      MAH_2  \n",
       "1  0.015852  14.482011  \n",
       "3  0.005404  14.169411  \n",
       "4  0.000376  13.702974  \n",
       "6  0.002399  12.523442  \n",
       "7  0.015902  12.380524  \n",
       "\n",
       "[5 rows x 133 columns]"
      ]
     },
     "execution_count": 40,
     "metadata": {},
     "output_type": "execute_result"
    }
   ],
   "source": [
    "df1.head()"
   ]
  },
  {
   "cell_type": "markdown",
   "id": "04f9ca44-6fd6-4b6a-83ab-e2f5c67bc71e",
   "metadata": {},
   "source": [
    "#### Descriptive Statistics"
   ]
  },
  {
   "cell_type": "code",
   "execution_count": 42,
   "id": "9d2c7461-8cf9-4a6e-994a-82b1119c4fb4",
   "metadata": {},
   "outputs": [
    {
     "data": {
      "text/plain": [
       "Index(['sex', 'age', 'marital', 'child', 'educ', 'source', 'smoke', 'smokenum',\n",
       "       'op1', 'op2',\n",
       "       ...\n",
       "       'tslfest', 'tmarlow', 'tpcoiss', 'agegp3', 'agegp5', 'educrec',\n",
       "       'LG10negaff', 'MAH_1', 'COO_1', 'MAH_2'],\n",
       "      dtype='object', length=133)"
      ]
     },
     "execution_count": 42,
     "metadata": {},
     "output_type": "execute_result"
    }
   ],
   "source": [
    "df1.columns"
   ]
  },
  {
   "cell_type": "code",
   "execution_count": null,
   "id": "cd5b0414-9235-472f-86f1-c22fa574dce0",
   "metadata": {},
   "outputs": [],
   "source": [
    "#Histogram for Age"
   ]
  },
  {
   "cell_type": "code",
   "execution_count": 44,
   "id": "7102c247-f71e-4dc3-84d6-29688f8aa0ea",
   "metadata": {},
   "outputs": [
    {
     "data": {
      "text/plain": [
       "Text(0, 0.5, 'Frequency')"
      ]
     },
     "execution_count": 44,
     "metadata": {},
     "output_type": "execute_result"
    },
    {
     "data": {
      "image/png": "[encoded data removed]",
      "text/plain": [
       "<Figure size 640x480 with 1 Axes>"
      ]
     },
     "metadata": {},
     "output_type": "display_data"
    }
   ],
   "source": [
    "plt.hist(df1['age'], bins=10, edgecolor='black')\n",
    "plt.title('Age Distribution')\n",
    "plt.xlabel('Age Distribution')\n",
    "plt.ylabel('Frequency')"
   ]
  },
  {
   "cell_type": "code",
   "execution_count": null,
   "id": "dc32f238-f85d-4622-8647-c7467802ee0f",
   "metadata": {},
   "outputs": [],
   "source": [
    "#this distribution shows that a majority of the respondents fall between the range 20-35 years\n",
    "#it indicates that the data is heavily represented by younger and middle-aged adults"
   ]
  },
  {
   "cell_type": "code",
   "execution_count": null,
   "id": "607b0947-cd65-42a5-b0c6-bd761209051c",
   "metadata": {},
   "outputs": [],
   "source": [
    "#Box Plot for Optimism by Gender"
   ]
  },
  {
   "cell_type": "code",
   "execution_count": 46,
   "id": "905f5d13-c3e5-404f-8509-c5bcacbf6fc8",
   "metadata": {},
   "outputs": [
    {
     "data": {
      "text/plain": [
       "Text(0.5, 1.0, 'Total Optimism VS Gender')"
      ]
     },
     "execution_count": 46,
     "metadata": {},
     "output_type": "execute_result"
    },
    {
     "data": {
      "image/png": "[encoded data removed]",
      "text/plain": [
       "<Figure size 640x480 with 1 Axes>"
      ]
     },
     "metadata": {},
     "output_type": "display_data"
    }
   ],
   "source": [
    "sns.boxplot(x='sex', y='toptim', data=df1)\n",
    "plt.xlabel('Gender')\n",
    "plt.ylabel('Total Optimism')\n",
    "plt.xticks([0,1],['Male','Female'])\n",
    "plt.title('Total Optimism VS Gender')"
   ]
  },
  {
   "cell_type": "code",
   "execution_count": null,
   "id": "4237f854-d39b-4b24-94e4-abe22d2b3b31",
   "metadata": {},
   "outputs": [],
   "source": [
    "#the box plot indicates that the mean of total optimism for females is slightly higher that that for males"
   ]
  },
  {
   "cell_type": "markdown",
   "id": "178a38a4-04ca-4c93-86f9-0b879cf9c901",
   "metadata": {},
   "source": [
    "#### Statistical Tests"
   ]
  },
  {
   "cell_type": "markdown",
   "id": "3ad98c30-4aac-4034-b2ad-a2e3eefe8627",
   "metadata": {},
   "source": [
    "#### Test 1: Correlation between Total Perceived Stress and Total Self-Esteem"
   ]
  },
  {
   "cell_type": "code",
   "execution_count": 48,
   "id": "6ef57ddd-ebc1-4aa9-9d17-aa2f6cf00298",
   "metadata": {},
   "outputs": [],
   "source": [
    "from scipy.stats import pearsonr"
   ]
  },
  {
   "cell_type": "code",
   "execution_count": 50,
   "id": "0765b0ae-d3e7-4c9c-b28c-e340f64b6fec",
   "metadata": {},
   "outputs": [],
   "source": [
    "corr, p_value = pearsonr(df1['tslfest'], df1['tpstress'])"
   ]
  },
  {
   "cell_type": "code",
   "execution_count": 52,
   "id": "959578d2-6caf-47b2-aad4-54ac16a7c266",
   "metadata": {},
   "outputs": [
    {
     "name": "stdout",
     "output_type": "stream",
     "text": [
      "Correlation Test Between Stress and Self-Esteem\n",
      "Correlation Coefficient:----->> -0.5835192552576107\n",
      "P-Value:----->> 8.990356869439582e-32\n"
     ]
    }
   ],
   "source": [
    "print(\"Correlation Test Between Stress and Self-Esteem\")\n",
    "print(\"Correlation Coefficient:----->>\", corr)\n",
    "print(\"P-Value:----->>\", p_value)"
   ]
  },
  {
   "cell_type": "code",
   "execution_count": null,
   "id": "6b96154b-257f-4d8b-bcc7-dd97072a02da",
   "metadata": {},
   "outputs": [],
   "source": []
  },
  {
   "cell_type": "markdown",
   "id": "ffc97622-7ffc-46ab-a46a-bfaa9c5cfb62",
   "metadata": {},
   "source": [
    "#### Test 2: Regression Analysis to Predict Total Life Satisfaction from Total Perceived Stress and Total Optimism"
   ]
  },
  {
   "cell_type": "code",
   "execution_count": 128,
   "id": "25d7252f-12cb-4ce1-b54f-7579919e8b34",
   "metadata": {},
   "outputs": [],
   "source": [
    "from sklearn.linear_model import LinearRegression\n",
    "linreg = LinearRegression()"
   ]
  },
  {
   "cell_type": "code",
   "execution_count": 130,
   "id": "ca25542c-4660-4ad5-bf0b-573f8e5e25ea",
   "metadata": {},
   "outputs": [],
   "source": [
    "x = df1[['tpstress', 'toptim']]\n",
    "y = df1['tlifesat']"
   ]
  },
  {
   "cell_type": "code",
   "execution_count": 132,
   "id": "357e866b-08ca-4b93-b023-9fef9d404670",
   "metadata": {},
   "outputs": [
    {
     "data": {
      "text/html": [
       "<style>#sk-container-id-2 {\n",
       "  /* Definition of color scheme common for light and dark mode */\n",
       "  --sklearn-color-text: black;\n",
       "  --sklearn-color-line: gray;\n",
       "  /* Definition of color scheme for unfitted estimators */\n",
       "  --sklearn-color-unfitted-level-0: #fff5e6;\n",
       "  --sklearn-color-unfitted-level-1: #f6e4d2;\n",
       "  --sklearn-color-unfitted-level-2: #ffe0b3;\n",
       "  --sklearn-color-unfitted-level-3: chocolate;\n",
       "  /* Definition of color scheme for fitted estimators */\n",
       "  --sklearn-color-fitted-level-0: #f0f8ff;\n",
       "  --sklearn-color-fitted-level-1: #d4ebff;\n",
       "  --sklearn-color-fitted-level-2: #b3dbfd;\n",
       "  --sklearn-color-fitted-level-3: cornflowerblue;\n",
       "\n",
       "  /* Specific color for light theme */\n",
       "  --sklearn-color-text-on-default-background: var(--sg-text-color, var(--theme-code-foreground, var(--jp-content-font-color1, black)));\n",
       "  --sklearn-color-background: var(--sg-background-color, var(--theme-background, var(--jp-layout-color0, white)));\n",
       "  --sklearn-color-border-box: var(--sg-text-color, var(--theme-code-foreground, var(--jp-content-font-color1, black)));\n",
       "  --sklearn-color-icon: #696969;\n",
       "\n",
       "  @media (prefers-color-scheme: dark) {\n",
       "    /* Redefinition of color scheme for dark theme */\n",
       "    --sklearn-color-text-on-default-background: var(--sg-text-color, var(--theme-code-foreground, var(--jp-content-font-color1, white)));\n",
       "    --sklearn-color-background: var(--sg-background-color, var(--theme-background, var(--jp-layout-color0, #111)));\n",
       "    --sklearn-color-border-box: var(--sg-text-color, var(--theme-code-foreground, var(--jp-content-font-color1, white)));\n",
       "    --sklearn-color-icon: #878787;\n",
       "  }\n",
       "}\n",
       "\n",
       "#sk-container-id-2 {\n",
       "  color: var(--sklearn-color-text);\n",
       "}\n",
       "\n",
       "#sk-container-id-2 pre {\n",
       "  padding: 0;\n",
       "}\n",
       "\n",
       "#sk-container-id-2 input.sk-hidden--visually {\n",
       "  border: 0;\n",
       "  clip: rect(1px 1px 1px 1px);\n",
       "  clip: rect(1px, 1px, 1px, 1px);\n",
       "  height: 1px;\n",
       "  margin: -1px;\n",
       "  overflow: hidden;\n",
       "  padding: 0;\n",
       "  position: absolute;\n",
       "  width: 1px;\n",
       "}\n",
       "\n",
       "#sk-container-id-2 div.sk-dashed-wrapped {\n",
       "  border: 1px dashed var(--sklearn-color-line);\n",
       "  margin: 0 0.4em 0.5em 0.4em;\n",
       "  box-sizing: border-box;\n",
       "  padding-bottom: 0.4em;\n",
       "  background-color: var(--sklearn-color-background);\n",
       "}\n",
       "\n",
       "#sk-container-id-2 div.sk-container {\n",
       "  /* jupyter's `normalize.less` sets `[hidden] { display: none; }`\n",
       "     but bootstrap.min.css set `[hidden] { display: none !important; }`\n",
       "     so we also need the `!important` here to be able to override the\n",
       "     default hidden behavior on the sphinx rendered scikit-learn.org.\n",
       "     See: https://github.com/scikit-learn/scikit-learn/issues/21755 */\n",
       "  display: inline-block !important;\n",
       "  position: relative;\n",
       "}\n",
       "\n",
       "#sk-container-id-2 div.sk-text-repr-fallback {\n",
       "  display: none;\n",
       "}\n",
       "\n",
       "div.sk-parallel-item,\n",
       "div.sk-serial,\n",
       "div.sk-item {\n",
       "  /* draw centered vertical line to link estimators */\n",
       "  background-image: linear-gradient(var(--sklearn-color-text-on-default-background), var(--sklearn-color-text-on-default-background));\n",
       "  background-size: 2px 100%;\n",
       "  background-repeat: no-repeat;\n",
       "  background-position: center center;\n",
       "}\n",
       "\n",
       "/* Parallel-specific style estimator block */\n",
       "\n",
       "#sk-container-id-2 div.sk-parallel-item::after {\n",
       "  content: \"\";\n",
       "  width: 100%;\n",
       "  border-bottom: 2px solid var(--sklearn-color-text-on-default-background);\n",
       "  flex-grow: 1;\n",
       "}\n",
       "\n",
       "#sk-container-id-2 div.sk-parallel {\n",
       "  display: flex;\n",
       "  align-items: stretch;\n",
       "  justify-content: center;\n",
       "  background-color: var(--sklearn-color-background);\n",
       "  position: relative;\n",
       "}\n",
       "\n",
       "#sk-container-id-2 div.sk-parallel-item {\n",
       "  display: flex;\n",
       "  flex-direction: column;\n",
       "}\n",
       "\n",
       "#sk-container-id-2 div.sk-parallel-item:first-child::after {\n",
       "  align-self: flex-end;\n",
       "  width: 50%;\n",
       "}\n",
       "\n",
       "#sk-container-id-2 div.sk-parallel-item:last-child::after {\n",
       "  align-self: flex-start;\n",
       "  width: 50%;\n",
       "}\n",
       "\n",
       "#sk-container-id-2 div.sk-parallel-item:only-child::after {\n",
       "  width: 0;\n",
       "}\n",
       "\n",
       "/* Serial-specific style estimator block */\n",
       "\n",
       "#sk-container-id-2 div.sk-serial {\n",
       "  display: flex;\n",
       "  flex-direction: column;\n",
       "  align-items: center;\n",
       "  background-color: var(--sklearn-color-background);\n",
       "  padding-right: 1em;\n",
       "  padding-left: 1em;\n",
       "}\n",
       "\n",
       "\n",
       "/* Toggleable style: style used for estimator/Pipeline/ColumnTransformer box that is\n",
       "clickable and can be expanded/collapsed.\n",
       "- Pipeline and ColumnTransformer use this feature and define the default style\n",
       "- Estimators will overwrite some part of the style using the `sk-estimator` class\n",
       "*/\n",
       "\n",
       "/* Pipeline and ColumnTransformer style (default) */\n",
       "\n",
       "#sk-container-id-2 div.sk-toggleable {\n",
       "  /* Default theme specific background. It is overwritten whether we have a\n",
       "  specific estimator or a Pipeline/ColumnTransformer */\n",
       "  background-color: var(--sklearn-color-background);\n",
       "}\n",
       "\n",
       "/* Toggleable label */\n",
       "#sk-container-id-2 label.sk-toggleable__label {\n",
       "  cursor: pointer;\n",
       "  display: block;\n",
       "  width: 100%;\n",
       "  margin-bottom: 0;\n",
       "  padding: 0.5em;\n",
       "  box-sizing: border-box;\n",
       "  text-align: center;\n",
       "}\n",
       "\n",
       "#sk-container-id-2 label.sk-toggleable__label-arrow:before {\n",
       "  /* Arrow on the left of the label */\n",
       "  content: \"▸\";\n",
       "  float: left;\n",
       "  margin-right: 0.25em;\n",
       "  color: var(--sklearn-color-icon);\n",
       "}\n",
       "\n",
       "#sk-container-id-2 label.sk-toggleable__label-arrow:hover:before {\n",
       "  color: var(--sklearn-color-text);\n",
       "}\n",
       "\n",
       "/* Toggleable content - dropdown */\n",
       "\n",
       "#sk-container-id-2 div.sk-toggleable__content {\n",
       "  max-height: 0;\n",
       "  max-width: 0;\n",
       "  overflow: hidden;\n",
       "  text-align: left;\n",
       "  /* unfitted */\n",
       "  background-color: var(--sklearn-color-unfitted-level-0);\n",
       "}\n",
       "\n",
       "#sk-container-id-2 div.sk-toggleable__content.fitted {\n",
       "  /* fitted */\n",
       "  background-color: var(--sklearn-color-fitted-level-0);\n",
       "}\n",
       "\n",
       "#sk-container-id-2 div.sk-toggleable__content pre {\n",
       "  margin: 0.2em;\n",
       "  border-radius: 0.25em;\n",
       "  color: var(--sklearn-color-text);\n",
       "  /* unfitted */\n",
       "  background-color: var(--sklearn-color-unfitted-level-0);\n",
       "}\n",
       "\n",
       "#sk-container-id-2 div.sk-toggleable__content.fitted pre {\n",
       "  /* unfitted */\n",
       "  background-color: var(--sklearn-color-fitted-level-0);\n",
       "}\n",
       "\n",
       "#sk-container-id-2 input.sk-toggleable__control:checked~div.sk-toggleable__content {\n",
       "  /* Expand drop-down */\n",
       "  max-height: 200px;\n",
       "  max-width: 100%;\n",
       "  overflow: auto;\n",
       "}\n",
       "\n",
       "#sk-container-id-2 input.sk-toggleable__control:checked~label.sk-toggleable__label-arrow:before {\n",
       "  content: \"▾\";\n",
       "}\n",
       "\n",
       "/* Pipeline/ColumnTransformer-specific style */\n",
       "\n",
       "#sk-container-id-2 div.sk-label input.sk-toggleable__control:checked~label.sk-toggleable__label {\n",
       "  color: var(--sklearn-color-text);\n",
       "  background-color: var(--sklearn-color-unfitted-level-2);\n",
       "}\n",
       "\n",
       "#sk-container-id-2 div.sk-label.fitted input.sk-toggleable__control:checked~label.sk-toggleable__label {\n",
       "  background-color: var(--sklearn-color-fitted-level-2);\n",
       "}\n",
       "\n",
       "/* Estimator-specific style */\n",
       "\n",
       "/* Colorize estimator box */\n",
       "#sk-container-id-2 div.sk-estimator input.sk-toggleable__control:checked~label.sk-toggleable__label {\n",
       "  /* unfitted */\n",
       "  background-color: var(--sklearn-color-unfitted-level-2);\n",
       "}\n",
       "\n",
       "#sk-container-id-2 div.sk-estimator.fitted input.sk-toggleable__control:checked~label.sk-toggleable__label {\n",
       "  /* fitted */\n",
       "  background-color: var(--sklearn-color-fitted-level-2);\n",
       "}\n",
       "\n",
       "#sk-container-id-2 div.sk-label label.sk-toggleable__label,\n",
       "#sk-container-id-2 div.sk-label label {\n",
       "  /* The background is the default theme color */\n",
       "  color: var(--sklearn-color-text-on-default-background);\n",
       "}\n",
       "\n",
       "/* On hover, darken the color of the background */\n",
       "#sk-container-id-2 div.sk-label:hover label.sk-toggleable__label {\n",
       "  color: var(--sklearn-color-text);\n",
       "  background-color: var(--sklearn-color-unfitted-level-2);\n",
       "}\n",
       "\n",
       "/* Label box, darken color on hover, fitted */\n",
       "#sk-container-id-2 div.sk-label.fitted:hover label.sk-toggleable__label.fitted {\n",
       "  color: var(--sklearn-color-text);\n",
       "  background-color: var(--sklearn-color-fitted-level-2);\n",
       "}\n",
       "\n",
       "/* Estimator label */\n",
       "\n",
       "#sk-container-id-2 div.sk-label label {\n",
       "  font-family: monospace;\n",
       "  font-weight: bold;\n",
       "  display: inline-block;\n",
       "  line-height: 1.2em;\n",
       "}\n",
       "\n",
       "#sk-container-id-2 div.sk-label-container {\n",
       "  text-align: center;\n",
       "}\n",
       "\n",
       "/* Estimator-specific */\n",
       "#sk-container-id-2 div.sk-estimator {\n",
       "  font-family: monospace;\n",
       "  border: 1px dotted var(--sklearn-color-border-box);\n",
       "  border-radius: 0.25em;\n",
       "  box-sizing: border-box;\n",
       "  margin-bottom: 0.5em;\n",
       "  /* unfitted */\n",
       "  background-color: var(--sklearn-color-unfitted-level-0);\n",
       "}\n",
       "\n",
       "#sk-container-id-2 div.sk-estimator.fitted {\n",
       "  /* fitted */\n",
       "  background-color: var(--sklearn-color-fitted-level-0);\n",
       "}\n",
       "\n",
       "/* on hover */\n",
       "#sk-container-id-2 div.sk-estimator:hover {\n",
       "  /* unfitted */\n",
       "  background-color: var(--sklearn-color-unfitted-level-2);\n",
       "}\n",
       "\n",
       "#sk-container-id-2 div.sk-estimator.fitted:hover {\n",
       "  /* fitted */\n",
       "  background-color: var(--sklearn-color-fitted-level-2);\n",
       "}\n",
       "\n",
       "/* Specification for estimator info (e.g. \"i\" and \"?\") */\n",
       "\n",
       "/* Common style for \"i\" and \"?\" */\n",
       "\n",
       ".sk-estimator-doc-link,\n",
       "a:link.sk-estimator-doc-link,\n",
       "a:visited.sk-estimator-doc-link {\n",
       "  float: right;\n",
       "  font-size: smaller;\n",
       "  line-height: 1em;\n",
       "  font-family: monospace;\n",
       "  background-color: var(--sklearn-color-background);\n",
       "  border-radius: 1em;\n",
       "  height: 1em;\n",
       "  width: 1em;\n",
       "  text-decoration: none !important;\n",
       "  margin-left: 1ex;\n",
       "  /* unfitted */\n",
       "  border: var(--sklearn-color-unfitted-level-1) 1pt solid;\n",
       "  color: var(--sklearn-color-unfitted-level-1);\n",
       "}\n",
       "\n",
       ".sk-estimator-doc-link.fitted,\n",
       "a:link.sk-estimator-doc-link.fitted,\n",
       "a:visited.sk-estimator-doc-link.fitted {\n",
       "  /* fitted */\n",
       "  border: var(--sklearn-color-fitted-level-1) 1pt solid;\n",
       "  color: var(--sklearn-color-fitted-level-1);\n",
       "}\n",
       "\n",
       "/* On hover */\n",
       "div.sk-estimator:hover .sk-estimator-doc-link:hover,\n",
       ".sk-estimator-doc-link:hover,\n",
       "div.sk-label-container:hover .sk-estimator-doc-link:hover,\n",
       ".sk-estimator-doc-link:hover {\n",
       "  /* unfitted */\n",
       "  background-color: var(--sklearn-color-unfitted-level-3);\n",
       "  color: var(--sklearn-color-background);\n",
       "  text-decoration: none;\n",
       "}\n",
       "\n",
       "div.sk-estimator.fitted:hover .sk-estimator-doc-link.fitted:hover,\n",
       ".sk-estimator-doc-link.fitted:hover,\n",
       "div.sk-label-container:hover .sk-estimator-doc-link.fitted:hover,\n",
       ".sk-estimator-doc-link.fitted:hover {\n",
       "  /* fitted */\n",
       "  background-color: var(--sklearn-color-fitted-level-3);\n",
       "  color: var(--sklearn-color-background);\n",
       "  text-decoration: none;\n",
       "}\n",
       "\n",
       "/* Span, style for the box shown on hovering the info icon */\n",
       ".sk-estimator-doc-link span {\n",
       "  display: none;\n",
       "  z-index: 9999;\n",
       "  position: relative;\n",
       "  font-weight: normal;\n",
       "  right: .2ex;\n",
       "  padding: .5ex;\n",
       "  margin: .5ex;\n",
       "  width: min-content;\n",
       "  min-width: 20ex;\n",
       "  max-width: 50ex;\n",
       "  color: var(--sklearn-color-text);\n",
       "  box-shadow: 2pt 2pt 4pt #999;\n",
       "  /* unfitted */\n",
       "  background: var(--sklearn-color-unfitted-level-0);\n",
       "  border: .5pt solid var(--sklearn-color-unfitted-level-3);\n",
       "}\n",
       "\n",
       ".sk-estimator-doc-link.fitted span {\n",
       "  /* fitted */\n",
       "  background: var(--sklearn-color-fitted-level-0);\n",
       "  border: var(--sklearn-color-fitted-level-3);\n",
       "}\n",
       "\n",
       ".sk-estimator-doc-link:hover span {\n",
       "  display: block;\n",
       "}\n",
       "\n",
       "/* \"?\"-specific style due to the `<a>` HTML tag */\n",
       "\n",
       "#sk-container-id-2 a.estimator_doc_link {\n",
       "  float: right;\n",
       "  font-size: 1rem;\n",
       "  line-height: 1em;\n",
       "  font-family: monospace;\n",
       "  background-color: var(--sklearn-color-background);\n",
       "  border-radius: 1rem;\n",
       "  height: 1rem;\n",
       "  width: 1rem;\n",
       "  text-decoration: none;\n",
       "  /* unfitted */\n",
       "  color: var(--sklearn-color-unfitted-level-1);\n",
       "  border: var(--sklearn-color-unfitted-level-1) 1pt solid;\n",
       "}\n",
       "\n",
       "#sk-container-id-2 a.estimator_doc_link.fitted {\n",
       "  /* fitted */\n",
       "  border: var(--sklearn-color-fitted-level-1) 1pt solid;\n",
       "  color: var(--sklearn-color-fitted-level-1);\n",
       "}\n",
       "\n",
       "/* On hover */\n",
       "#sk-container-id-2 a.estimator_doc_link:hover {\n",
       "  /* unfitted */\n",
       "  background-color: var(--sklearn-color-unfitted-level-3);\n",
       "  color: var(--sklearn-color-background);\n",
       "  text-decoration: none;\n",
       "}\n",
       "\n",
       "#sk-container-id-2 a.estimator_doc_link.fitted:hover {\n",
       "  /* fitted */\n",
       "  background-color: var(--sklearn-color-fitted-level-3);\n",
       "}\n",
       "</style><div id=\"sk-container-id-2\" class=\"sk-top-container\"><div class=\"sk-text-repr-fallback\"><pre>LinearRegression()</pre><b>In a Jupyter environment, please rerun this cell to show the HTML representation or trust the notebook. <br />On GitHub, the HTML representation is unable to render, please try loading this page with nbviewer.org.</b></div><div class=\"sk-container\" hidden><div class=\"sk-item\"><div class=\"sk-estimator fitted sk-toggleable\"><input class=\"sk-toggleable__control sk-hidden--visually\" id=\"sk-estimator-id-2\" type=\"checkbox\" checked><label for=\"sk-estimator-id-2\" class=\"sk-toggleable__label fitted sk-toggleable__label-arrow fitted\">&nbsp;&nbsp;LinearRegression<a class=\"sk-estimator-doc-link fitted\" rel=\"noreferrer\" target=\"_blank\" href=\"https://scikit-learn.org/1.5/modules/generated/sklearn.linear_model.LinearRegression.html\">?<span>Documentation for LinearRegression</span></a><span class=\"sk-estimator-doc-link fitted\">i<span>Fitted</span></span></label><div class=\"sk-toggleable__content fitted\"><pre>LinearRegression()</pre></div> </div></div></div></div>"
      ],
      "text/plain": [
       "LinearRegression()"
      ]
     },
     "execution_count": 132,
     "metadata": {},
     "output_type": "execute_result"
    }
   ],
   "source": [
    "linreg.fit(x,y)"
   ]
  },
  {
   "cell_type": "code",
   "execution_count": 134,
   "id": "fe916e5a-d8d8-4554-8322-6736c32392a2",
   "metadata": {},
   "outputs": [],
   "source": [
    "coefficients = linreg.coef_\n",
    "intercept = linreg.intercept_"
   ]
  },
  {
   "cell_type": "code",
   "execution_count": 136,
   "id": "85669558-2001-423b-8946-7b4de8240102",
   "metadata": {},
   "outputs": [
    {
     "name": "stdout",
     "output_type": "stream",
     "text": [
      "Regression Analysis to Predict Life Satisfaction from Stress and Optimism\n",
      "Intercept:----->> 22.182762848092697\n",
      "Coefficient for Stress:------>> -0.41873441256134125\n",
      "Coefficient for Optimism:------>> 0.521941474614787\n"
     ]
    }
   ],
   "source": [
    "print(\"Regression Analysis to Predict Life Satisfaction from Stress and Optimism\")\n",
    "print(\"Intercept:----->>\", intercept)\n",
    "print(\"Coefficient for Stress:------>>\", coefficients[0])\n",
    "print(\"Coefficient for Optimism:------>>\", coefficients[1])"
   ]
  },
  {
   "cell_type": "markdown",
   "id": "8ada385d-9538-419d-b942-49044e936499",
   "metadata": {},
   "source": [
    "#### Plots for Linear Regression"
   ]
  },
  {
   "cell_type": "code",
   "execution_count": 138,
   "id": "322ec3e7-0a25-4fad-ad61-6a141deaf896",
   "metadata": {},
   "outputs": [
    {
     "data": {
      "image/png": "[encoded data removed]",
      "text/plain": [
       "<Figure size 800x600 with 1 Axes>"
      ]
     },
     "metadata": {},
     "output_type": "display_data"
    }
   ],
   "source": [
    "#Scatter plot with regression line for Total Perceived Stress vs. Life Satisfaction\n",
    "plt.figure(figsize=(8, 6))\n",
    "sns.regplot(x='tpstress', y='tlifesat', data=df1,line_kws={'color': 'red'})\n",
    "plt.xlabel('Total Perceived Stress')\n",
    "plt.ylabel('Total Life Satisfaction ')\n",
    "plt.title('Relationship Between Stress and Total Life Satisfaction')\n",
    "plt.show()"
   ]
  },
  {
   "cell_type": "code",
   "execution_count": 140,
   "id": "e231cf4e-1864-4753-8c8b-2195ee07f706",
   "metadata": {},
   "outputs": [
    {
     "data": {
      "image/png": "[encoded data removed]",
      "text/plain": [
       "<Figure size 800x600 with 1 Axes>"
      ]
     },
     "metadata": {},
     "output_type": "display_data"
    }
   ],
   "source": [
    "#Scatter plot with regression line for Total Optimism vs. Life Satisfaction\n",
    "plt.figure(figsize=(8, 6))\n",
    "sns.regplot(x='toptim', y='tlifesat', data=df1, line_kws={'color': 'green'})\n",
    "plt.xlabel('Total Optimism')\n",
    "plt.ylabel('Total Life Satisfaction')\n",
    "plt.title('Relationship Between Optimism and Total Life Satisfaction')\n",
    "plt.show()"
   ]
  },
  {
   "cell_type": "code",
   "execution_count": null,
   "id": "2655b683-ebf7-47fb-b0eb-7ea8065c8ca7",
   "metadata": {},
   "outputs": [],
   "source": []
  },
  {
   "cell_type": "markdown",
   "id": "89ee316a-56f3-47ce-9825-2d2e10c7a052",
   "metadata": {},
   "source": [
    "#### Test 3: Chi-Square Test for Smoking Status by Age Group"
   ]
  },
  {
   "cell_type": "code",
   "execution_count": 142,
   "id": "5a475386-45ab-432d-a50b-11fabb44b21e",
   "metadata": {},
   "outputs": [],
   "source": [
    "from scipy.stats import chi2_contingency"
   ]
  },
  {
   "cell_type": "code",
   "execution_count": 144,
   "id": "046d5840-943f-471d-bb71-446ef53bc03f",
   "metadata": {},
   "outputs": [
    {
     "data": {
      "text/html": [
       "<div>\n",
       "<style scoped>\n",
       "    .dataframe tbody tr th:only-of-type {\n",
       "        vertical-align: middle;\n",
       "    }\n",
       "\n",
       "    .dataframe tbody tr th {\n",
       "        vertical-align: top;\n",
       "    }\n",
       "\n",
       "    .dataframe thead th {\n",
       "        text-align: right;\n",
       "    }\n",
       "</style>\n",
       "<table border=\"1\" class=\"dataframe\">\n",
       "  <thead>\n",
       "    <tr style=\"text-align: right;\">\n",
       "      <th>agegp3</th>\n",
       "      <th>1</th>\n",
       "      <th>2</th>\n",
       "      <th>3</th>\n",
       "    </tr>\n",
       "    <tr>\n",
       "      <th>smoke</th>\n",
       "      <th></th>\n",
       "      <th></th>\n",
       "      <th></th>\n",
       "    </tr>\n",
       "  </thead>\n",
       "  <tbody>\n",
       "    <tr>\n",
       "      <th>1.0</th>\n",
       "      <td>33</td>\n",
       "      <td>29</td>\n",
       "      <td>14</td>\n",
       "    </tr>\n",
       "    <tr>\n",
       "      <th>2.0</th>\n",
       "      <td>75</td>\n",
       "      <td>94</td>\n",
       "      <td>88</td>\n",
       "    </tr>\n",
       "  </tbody>\n",
       "</table>\n",
       "</div>"
      ],
      "text/plain": [
       "agegp3   1   2   3\n",
       "smoke             \n",
       "1.0     33  29  14\n",
       "2.0     75  94  88"
      ]
     },
     "execution_count": 144,
     "metadata": {},
     "output_type": "execute_result"
    }
   ],
   "source": [
    "contingency_table = pd.crosstab(df1['smoke'], df1['agegp3'])\n",
    "contingency_table"
   ]
  },
  {
   "cell_type": "code",
   "execution_count": null,
   "id": "7d8f690c-6d47-440e-9918-d11075aff95a",
   "metadata": {},
   "outputs": [],
   "source": [
    "#1--> yes\n",
    "#2--> no"
   ]
  },
  {
   "cell_type": "code",
   "execution_count": 146,
   "id": "af974479-6143-4b68-ab79-be60b769d63d",
   "metadata": {},
   "outputs": [],
   "source": [
    "chi2, p_value, dof, expected = chi2_contingency(contingency_table)"
   ]
  },
  {
   "cell_type": "code",
   "execution_count": 148,
   "id": "d3e97248-b20c-4bae-b241-c1950dd5ba62",
   "metadata": {},
   "outputs": [
    {
     "name": "stdout",
     "output_type": "stream",
     "text": [
      "Chi-Square Test for Smoking Status by Age Group\n",
      "Chi-Square Statistic:----->> 8.498660752718344\n",
      "P-Value:---->> 0.014273788775968396\n",
      "Degrees of Freedom:----->> 2\n",
      "Expected Frequencies Table:\n",
      "------>> [[24.64864865 28.07207207 23.27927928]\n",
      " [83.35135135 94.92792793 78.72072072]]\n"
     ]
    }
   ],
   "source": [
    "print(\"Chi-Square Test for Smoking Status by Age Group\")\n",
    "print(\"Chi-Square Statistic:----->>\", chi2)\n",
    "print(\"P-Value:---->>\", p_value)\n",
    "print(\"Degrees of Freedom:----->>\", dof)\n",
    "print(\"Expected Frequencies Table:\\n------>>\", expected)"
   ]
  },
  {
   "cell_type": "code",
   "execution_count": null,
   "id": "a194962c-0fdb-4d46-ac19-49f66355a6b8",
   "metadata": {},
   "outputs": [],
   "source": []
  },
  {
   "cell_type": "markdown",
   "id": "eac44c10-f548-4ee8-aa7f-7331005120b3",
   "metadata": {},
   "source": [
    "#### Test 4: T-Test for Total Optimism Scores by Smoking Status"
   ]
  },
  {
   "cell_type": "code",
   "execution_count": 150,
   "id": "99a28942-35ce-4825-91cc-b9d91c1fcc3c",
   "metadata": {},
   "outputs": [],
   "source": [
    "from scipy.stats import ttest_ind"
   ]
  },
  {
   "cell_type": "code",
   "execution_count": 152,
   "id": "7f0a6d79-8c5c-4fb6-ab36-be66a57b951f",
   "metadata": {},
   "outputs": [],
   "source": [
    "smokers_optimism = df1[df1['smoke'] == 1]['toptim']\n",
    "non_smokers_optimism = df1[df1['smoke'] == 2]['toptim']"
   ]
  },
  {
   "cell_type": "code",
   "execution_count": 154,
   "id": "dc29774d-2798-46d1-8de6-4a8d29574b3e",
   "metadata": {},
   "outputs": [],
   "source": [
    "t_stat, p_value = ttest_ind(smokers_optimism, non_smokers_optimism)"
   ]
  },
  {
   "cell_type": "code",
   "execution_count": 156,
   "id": "32f20794-1ce4-4757-958b-5fca7ffa7ffa",
   "metadata": {},
   "outputs": [
    {
     "name": "stdout",
     "output_type": "stream",
     "text": [
      "T-Test for Optimism Scores by Smoking Status\n",
      "T-Statistic:----->> -1.808191047217171\n",
      "P-Value:----->> 0.07148425234695395\n"
     ]
    }
   ],
   "source": [
    "print(\"T-Test for Optimism Scores by Smoking Status\")\n",
    "print(\"T-Statistic:----->>\", t_stat)\n",
    "print(\"P-Value:----->>\", p_value)"
   ]
  },
  {
   "cell_type": "code",
   "execution_count": null,
   "id": "4540d454-c5d4-4541-85a9-6f427d88ff95",
   "metadata": {},
   "outputs": [],
   "source": []
  },
  {
   "cell_type": "markdown",
   "id": "d009e9b0-3545-4442-a523-1282d8f2b13d",
   "metadata": {},
   "source": [
    "#### Test 5: ANOVA for Total Life Satisfaction across Education Levels"
   ]
  },
  {
   "cell_type": "code",
   "execution_count": 158,
   "id": "9ba6dcbc-0c7c-4d4e-a724-e5ba1032ec80",
   "metadata": {},
   "outputs": [],
   "source": [
    "from scipy.stats import f_oneway"
   ]
  },
  {
   "cell_type": "code",
   "execution_count": 168,
   "id": "bf876f6e-7a8e-4bcf-9ec0-879c67d5eb27",
   "metadata": {},
   "outputs": [],
   "source": [
    "group1 = df1[df1['educ'] == 1]['tlifesat']  #Education Level 1\n",
    "group2 = df1[df1['educ'] == 2]['tlifesat']  #Education Level 2\n",
    "group3 = df1[df1['educ'] == 3]['tlifesat']  #Education Level 3\n",
    "group4 = df1[df1['educ'] == 4]['tlifesat']  #Education Level 4\n",
    "group5 = df1[df1['educ'] == 5]['tlifesat']  #Education Level 5"
   ]
  },
  {
   "cell_type": "code",
   "execution_count": 170,
   "id": "44cefb01-23ce-46ea-9155-1fe3ccdf8e76",
   "metadata": {},
   "outputs": [],
   "source": [
    "f_stat, p_value = f_oneway(group1, group2, group3, group4, group5)"
   ]
  },
  {
   "cell_type": "code",
   "execution_count": 172,
   "id": "148c9bb0-2dea-411e-8cb6-d286e484c454",
   "metadata": {},
   "outputs": [
    {
     "name": "stdout",
     "output_type": "stream",
     "text": [
      "ANOVA for Life Satisfaction Across Education Levels\n",
      "F-Statistic:----->> 3.6380768758575024\n",
      "P-Value:------->> 0.006575475847309252\n"
     ]
    }
   ],
   "source": [
    "print(\"ANOVA for Life Satisfaction Across Education Levels\")\n",
    "print(\"F-Statistic:----->>\", f_stat)\n",
    "print(\"P-Value:------->>\", p_value)"
   ]
  },
  {
   "cell_type": "code",
   "execution_count": null,
   "id": "efe7b7b5-88e4-4270-af9d-4a61375ff422",
   "metadata": {},
   "outputs": [],
   "source": []
  },
  {
   "cell_type": "code",
   "execution_count": null,
   "id": "5e3ddf7f-664c-4ea8-9beb-1a2b27228a57",
   "metadata": {},
   "outputs": [],
   "source": []
  },
  {
   "cell_type": "code",
   "execution_count": null,
   "id": "c48ea3b4-c922-4d39-a247-5c94bba36893",
   "metadata": {},
   "outputs": [],
   "source": []
  }
 ],
 "metadata": {
  "kernelspec": {
   "display_name": "Python 3 (ipykernel)",
   "language": "python",
   "name": "python3"
  },
  "language_info": {
   "codemirror_mode": {
    "name": "ipython",
    "version": 3
   },
   "file_extension": ".py",
   "mimetype": "text/x-python",
   "name": "python",
   "nbconvert_exporter": "python",
   "pygments_lexer": "ipython3",
   "version": "3.12.7"
  }
 },
 "nbformat": 4,
 "nbformat_minor": 5
}
